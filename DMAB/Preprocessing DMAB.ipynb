{
 "cells": [
  {
   "cell_type": "code",
   "execution_count": 1,
   "metadata": {},
   "outputs": [],
   "source": [
    "import pandas as pd\n",
    "import numpy as np\n",
    "import matplotlib.pyplot as plt\n",
    "import seaborn as sns\n",
    "import scipy.stats as stats"
   ]
  },
  {
   "cell_type": "markdown",
   "metadata": {},
   "source": [
    "**SOAL NO 1**"
   ]
  },
  {
   "cell_type": "markdown",
   "metadata": {},
   "source": [
    "a. Download dataset produk_elektronik.csv yang ada pada link berikut\n",
    "https://bit.ly/dataprodukelektronik\n"
   ]
  },
  {
   "cell_type": "code",
   "execution_count": 2,
   "metadata": {},
   "outputs": [
    {
     "data": {
      "text/html": [
       "<div>\n",
       "<style scoped>\n",
       "    .dataframe tbody tr th:only-of-type {\n",
       "        vertical-align: middle;\n",
       "    }\n",
       "\n",
       "    .dataframe tbody tr th {\n",
       "        vertical-align: top;\n",
       "    }\n",
       "\n",
       "    .dataframe thead th {\n",
       "        text-align: right;\n",
       "    }\n",
       "</style>\n",
       "<table border=\"1\" class=\"dataframe\">\n",
       "  <thead>\n",
       "    <tr style=\"text-align: right;\">\n",
       "      <th></th>\n",
       "      <th>produk_id</th>\n",
       "      <th>nama_produk</th>\n",
       "      <th>kategori</th>\n",
       "      <th>harga</th>\n",
       "      <th>rating</th>\n",
       "      <th>jumlah_ulasan</th>\n",
       "      <th>negara_asal</th>\n",
       "    </tr>\n",
       "  </thead>\n",
       "  <tbody>\n",
       "    <tr>\n",
       "      <th>0</th>\n",
       "      <td>1</td>\n",
       "      <td>Produk_1</td>\n",
       "      <td>Smartwatch</td>\n",
       "      <td>746.0</td>\n",
       "      <td>4.2</td>\n",
       "      <td>273.0</td>\n",
       "      <td>Japan</td>\n",
       "    </tr>\n",
       "    <tr>\n",
       "      <th>1</th>\n",
       "      <td>2</td>\n",
       "      <td>Produk_2</td>\n",
       "      <td>Headphone</td>\n",
       "      <td>241.0</td>\n",
       "      <td>3.5</td>\n",
       "      <td>239.0</td>\n",
       "      <td>Canada</td>\n",
       "    </tr>\n",
       "    <tr>\n",
       "      <th>2</th>\n",
       "      <td>3</td>\n",
       "      <td>Produk_3</td>\n",
       "      <td>Tablet</td>\n",
       "      <td>810.0</td>\n",
       "      <td>3.8</td>\n",
       "      <td>209.0</td>\n",
       "      <td>Canada</td>\n",
       "    </tr>\n",
       "    <tr>\n",
       "      <th>3</th>\n",
       "      <td>4</td>\n",
       "      <td>Produk_4</td>\n",
       "      <td>Headphone</td>\n",
       "      <td>303.0</td>\n",
       "      <td>3.2</td>\n",
       "      <td>59.0</td>\n",
       "      <td>South Korea</td>\n",
       "    </tr>\n",
       "    <tr>\n",
       "      <th>4</th>\n",
       "      <td>5</td>\n",
       "      <td>Produk_5</td>\n",
       "      <td>Headphone</td>\n",
       "      <td>252.0</td>\n",
       "      <td>3.7</td>\n",
       "      <td>76.0</td>\n",
       "      <td>South Korea</td>\n",
       "    </tr>\n",
       "  </tbody>\n",
       "</table>\n",
       "</div>"
      ],
      "text/plain": [
       "   produk_id nama_produk    kategori  harga  rating  jumlah_ulasan  \\\n",
       "0          1    Produk_1  Smartwatch  746.0     4.2          273.0   \n",
       "1          2    Produk_2   Headphone  241.0     3.5          239.0   \n",
       "2          3    Produk_3      Tablet  810.0     3.8          209.0   \n",
       "3          4    Produk_4   Headphone  303.0     3.2           59.0   \n",
       "4          5    Produk_5   Headphone  252.0     3.7           76.0   \n",
       "\n",
       "   negara_asal  \n",
       "0        Japan  \n",
       "1       Canada  \n",
       "2       Canada  \n",
       "3  South Korea  \n",
       "4  South Korea  "
      ]
     },
     "execution_count": 2,
     "metadata": {},
     "output_type": "execute_result"
    }
   ],
   "source": [
    "df = pd.read_csv('D:/UNNES/Semester 4/Penambangan Data dan Analisis Bisnis/produk_elektronik.csv')\n",
    "df.head()"
   ]
  },
  {
   "cell_type": "markdown",
   "metadata": {},
   "source": [
    "b. Tampilkan informasi tipe data setiap kolom dan cek apakah ada missing values."
   ]
  },
  {
   "cell_type": "code",
   "execution_count": 3,
   "metadata": {},
   "outputs": [
    {
     "name": "stdout",
     "output_type": "stream",
     "text": [
      "<class 'pandas.core.frame.DataFrame'>\n",
      "RangeIndex: 550 entries, 0 to 549\n",
      "Data columns (total 7 columns):\n",
      " #   Column         Non-Null Count  Dtype  \n",
      "---  ------         --------------  -----  \n",
      " 0   produk_id      550 non-null    int64  \n",
      " 1   nama_produk    550 non-null    object \n",
      " 2   kategori       550 non-null    object \n",
      " 3   harga          520 non-null    float64\n",
      " 4   rating         500 non-null    float64\n",
      " 5   jumlah_ulasan  530 non-null    float64\n",
      " 6   negara_asal    550 non-null    object \n",
      "dtypes: float64(3), int64(1), object(3)\n",
      "memory usage: 30.2+ KB\n"
     ]
    }
   ],
   "source": [
    "df.info()"
   ]
  },
  {
   "cell_type": "markdown",
   "metadata": {},
   "source": [
    "Berdasarkan hasil output di atas, dapat disimpulkan bahwa dataset tersebut memiliki total 7 kolom, dengan jumlah maksimum baris untuk setiap kolom sebanyak 550 baris. Namun, terdapat beberapa kolom yang memiliki jumlah baris kurang dari 550, sehingga diperlukan proses identifikasi lebih lanjut.\n",
    "\n",
    "Tipe data yang digunakan untuk setiap variabel adalah sebagai berikut:\n",
    "1. Integer: produk_id\n",
    "2. Object (string): nama_produk, kategori, negara_asal\n",
    "3. Float: harga, rating, jumlah_ulasan"
   ]
  },
  {
   "cell_type": "code",
   "execution_count": 4,
   "metadata": {},
   "outputs": [
    {
     "data": {
      "text/html": [
       "<div>\n",
       "<style scoped>\n",
       "    .dataframe tbody tr th:only-of-type {\n",
       "        vertical-align: middle;\n",
       "    }\n",
       "\n",
       "    .dataframe tbody tr th {\n",
       "        vertical-align: top;\n",
       "    }\n",
       "\n",
       "    .dataframe thead th {\n",
       "        text-align: right;\n",
       "    }\n",
       "</style>\n",
       "<table border=\"1\" class=\"dataframe\">\n",
       "  <thead>\n",
       "    <tr style=\"text-align: right;\">\n",
       "      <th></th>\n",
       "      <th>produk_id</th>\n",
       "      <th>harga</th>\n",
       "      <th>rating</th>\n",
       "      <th>jumlah_ulasan</th>\n",
       "    </tr>\n",
       "  </thead>\n",
       "  <tbody>\n",
       "    <tr>\n",
       "      <th>count</th>\n",
       "      <td>550.000000</td>\n",
       "      <td>520.000000</td>\n",
       "      <td>500.000000</td>\n",
       "      <td>530.000000</td>\n",
       "    </tr>\n",
       "    <tr>\n",
       "      <th>mean</th>\n",
       "      <td>275.500000</td>\n",
       "      <td>565.715385</td>\n",
       "      <td>4.005600</td>\n",
       "      <td>259.671698</td>\n",
       "    </tr>\n",
       "    <tr>\n",
       "      <th>std</th>\n",
       "      <td>158.915596</td>\n",
       "      <td>625.886725</td>\n",
       "      <td>0.571052</td>\n",
       "      <td>142.655380</td>\n",
       "    </tr>\n",
       "    <tr>\n",
       "      <th>min</th>\n",
       "      <td>1.000000</td>\n",
       "      <td>-213.000000</td>\n",
       "      <td>3.000000</td>\n",
       "      <td>12.000000</td>\n",
       "    </tr>\n",
       "    <tr>\n",
       "      <th>25%</th>\n",
       "      <td>138.250000</td>\n",
       "      <td>374.000000</td>\n",
       "      <td>3.500000</td>\n",
       "      <td>139.000000</td>\n",
       "    </tr>\n",
       "    <tr>\n",
       "      <th>50%</th>\n",
       "      <td>275.500000</td>\n",
       "      <td>516.000000</td>\n",
       "      <td>4.000000</td>\n",
       "      <td>262.500000</td>\n",
       "    </tr>\n",
       "    <tr>\n",
       "      <th>75%</th>\n",
       "      <td>412.750000</td>\n",
       "      <td>656.250000</td>\n",
       "      <td>4.500000</td>\n",
       "      <td>390.750000</td>\n",
       "    </tr>\n",
       "    <tr>\n",
       "      <th>max</th>\n",
       "      <td>550.000000</td>\n",
       "      <td>8341.000000</td>\n",
       "      <td>5.000000</td>\n",
       "      <td>499.000000</td>\n",
       "    </tr>\n",
       "  </tbody>\n",
       "</table>\n",
       "</div>"
      ],
      "text/plain": [
       "        produk_id        harga      rating  jumlah_ulasan\n",
       "count  550.000000   520.000000  500.000000     530.000000\n",
       "mean   275.500000   565.715385    4.005600     259.671698\n",
       "std    158.915596   625.886725    0.571052     142.655380\n",
       "min      1.000000  -213.000000    3.000000      12.000000\n",
       "25%    138.250000   374.000000    3.500000     139.000000\n",
       "50%    275.500000   516.000000    4.000000     262.500000\n",
       "75%    412.750000   656.250000    4.500000     390.750000\n",
       "max    550.000000  8341.000000    5.000000     499.000000"
      ]
     },
     "execution_count": 4,
     "metadata": {},
     "output_type": "execute_result"
    }
   ],
   "source": [
    "df.describe()"
   ]
  },
  {
   "cell_type": "code",
   "execution_count": 5,
   "metadata": {},
   "outputs": [
    {
     "data": {
      "text/html": [
       "<div>\n",
       "<style scoped>\n",
       "    .dataframe tbody tr th:only-of-type {\n",
       "        vertical-align: middle;\n",
       "    }\n",
       "\n",
       "    .dataframe tbody tr th {\n",
       "        vertical-align: top;\n",
       "    }\n",
       "\n",
       "    .dataframe thead th {\n",
       "        text-align: right;\n",
       "    }\n",
       "</style>\n",
       "<table border=\"1\" class=\"dataframe\">\n",
       "  <thead>\n",
       "    <tr style=\"text-align: right;\">\n",
       "      <th></th>\n",
       "      <th>produk_id</th>\n",
       "      <th>nama_produk</th>\n",
       "      <th>kategori</th>\n",
       "      <th>harga</th>\n",
       "      <th>rating</th>\n",
       "      <th>jumlah_ulasan</th>\n",
       "      <th>negara_asal</th>\n",
       "    </tr>\n",
       "  </thead>\n",
       "  <tbody>\n",
       "    <tr>\n",
       "      <th>0</th>\n",
       "      <td>False</td>\n",
       "      <td>False</td>\n",
       "      <td>False</td>\n",
       "      <td>False</td>\n",
       "      <td>False</td>\n",
       "      <td>False</td>\n",
       "      <td>False</td>\n",
       "    </tr>\n",
       "    <tr>\n",
       "      <th>1</th>\n",
       "      <td>False</td>\n",
       "      <td>False</td>\n",
       "      <td>False</td>\n",
       "      <td>False</td>\n",
       "      <td>False</td>\n",
       "      <td>False</td>\n",
       "      <td>False</td>\n",
       "    </tr>\n",
       "    <tr>\n",
       "      <th>2</th>\n",
       "      <td>False</td>\n",
       "      <td>False</td>\n",
       "      <td>False</td>\n",
       "      <td>False</td>\n",
       "      <td>False</td>\n",
       "      <td>False</td>\n",
       "      <td>False</td>\n",
       "    </tr>\n",
       "    <tr>\n",
       "      <th>3</th>\n",
       "      <td>False</td>\n",
       "      <td>False</td>\n",
       "      <td>False</td>\n",
       "      <td>False</td>\n",
       "      <td>False</td>\n",
       "      <td>False</td>\n",
       "      <td>False</td>\n",
       "    </tr>\n",
       "    <tr>\n",
       "      <th>4</th>\n",
       "      <td>False</td>\n",
       "      <td>False</td>\n",
       "      <td>False</td>\n",
       "      <td>False</td>\n",
       "      <td>False</td>\n",
       "      <td>False</td>\n",
       "      <td>False</td>\n",
       "    </tr>\n",
       "    <tr>\n",
       "      <th>...</th>\n",
       "      <td>...</td>\n",
       "      <td>...</td>\n",
       "      <td>...</td>\n",
       "      <td>...</td>\n",
       "      <td>...</td>\n",
       "      <td>...</td>\n",
       "      <td>...</td>\n",
       "    </tr>\n",
       "    <tr>\n",
       "      <th>545</th>\n",
       "      <td>False</td>\n",
       "      <td>False</td>\n",
       "      <td>False</td>\n",
       "      <td>False</td>\n",
       "      <td>False</td>\n",
       "      <td>False</td>\n",
       "      <td>False</td>\n",
       "    </tr>\n",
       "    <tr>\n",
       "      <th>546</th>\n",
       "      <td>False</td>\n",
       "      <td>False</td>\n",
       "      <td>False</td>\n",
       "      <td>False</td>\n",
       "      <td>False</td>\n",
       "      <td>False</td>\n",
       "      <td>False</td>\n",
       "    </tr>\n",
       "    <tr>\n",
       "      <th>547</th>\n",
       "      <td>False</td>\n",
       "      <td>False</td>\n",
       "      <td>False</td>\n",
       "      <td>False</td>\n",
       "      <td>False</td>\n",
       "      <td>False</td>\n",
       "      <td>False</td>\n",
       "    </tr>\n",
       "    <tr>\n",
       "      <th>548</th>\n",
       "      <td>False</td>\n",
       "      <td>False</td>\n",
       "      <td>False</td>\n",
       "      <td>False</td>\n",
       "      <td>False</td>\n",
       "      <td>False</td>\n",
       "      <td>False</td>\n",
       "    </tr>\n",
       "    <tr>\n",
       "      <th>549</th>\n",
       "      <td>False</td>\n",
       "      <td>False</td>\n",
       "      <td>False</td>\n",
       "      <td>False</td>\n",
       "      <td>False</td>\n",
       "      <td>False</td>\n",
       "      <td>False</td>\n",
       "    </tr>\n",
       "  </tbody>\n",
       "</table>\n",
       "<p>550 rows × 7 columns</p>\n",
       "</div>"
      ],
      "text/plain": [
       "     produk_id  nama_produk  kategori  harga  rating  jumlah_ulasan  \\\n",
       "0        False        False     False  False   False          False   \n",
       "1        False        False     False  False   False          False   \n",
       "2        False        False     False  False   False          False   \n",
       "3        False        False     False  False   False          False   \n",
       "4        False        False     False  False   False          False   \n",
       "..         ...          ...       ...    ...     ...            ...   \n",
       "545      False        False     False  False   False          False   \n",
       "546      False        False     False  False   False          False   \n",
       "547      False        False     False  False   False          False   \n",
       "548      False        False     False  False   False          False   \n",
       "549      False        False     False  False   False          False   \n",
       "\n",
       "     negara_asal  \n",
       "0          False  \n",
       "1          False  \n",
       "2          False  \n",
       "3          False  \n",
       "4          False  \n",
       "..           ...  \n",
       "545        False  \n",
       "546        False  \n",
       "547        False  \n",
       "548        False  \n",
       "549        False  \n",
       "\n",
       "[550 rows x 7 columns]"
      ]
     },
     "execution_count": 5,
     "metadata": {},
     "output_type": "execute_result"
    }
   ],
   "source": [
    "df.isnull()"
   ]
  },
  {
   "cell_type": "code",
   "execution_count": 6,
   "metadata": {},
   "outputs": [
    {
     "name": "stderr",
     "output_type": "stream",
     "text": [
      "c:\\Users\\DELL\\AppData\\Local\\Programs\\Python\\Python313\\Lib\\site-packages\\numpy\\_core\\fromnumeric.py:84: FutureWarning: The behavior of DataFrame.sum with axis=None is deprecated, in a future version this will reduce over both axes and return a scalar. To retain the old behavior, pass axis=0 (or do not pass axis)\n",
      "  return reduction(axis=axis, out=out, **passkwargs)\n"
     ]
    },
    {
     "data": {
      "text/plain": [
       "produk_id         0\n",
       "nama_produk       0\n",
       "kategori          0\n",
       "harga            30\n",
       "rating           50\n",
       "jumlah_ulasan    20\n",
       "negara_asal       0\n",
       "dtype: int64"
      ]
     },
     "execution_count": 6,
     "metadata": {},
     "output_type": "execute_result"
    }
   ],
   "source": [
    "np.sum(df.isnull())"
   ]
  },
  {
   "cell_type": "markdown",
   "metadata": {},
   "source": [
    "Berdasarkan hasil ringkasan tersebut, diketahui bahwa kolom yang mengandung Missing Values (kosong/N/A (Python: nan atau NaN)) adalah harga, rating, dan jumlah_ulasan."
   ]
  },
  {
   "cell_type": "markdown",
   "metadata": {},
   "source": [
    "**SOAL NO 2**"
   ]
  },
  {
   "cell_type": "markdown",
   "metadata": {},
   "source": [
    "a. Cek missing values pada dataset. Berapa jumlah missing values di setiap kolom?"
   ]
  },
  {
   "cell_type": "code",
   "execution_count": 7,
   "metadata": {},
   "outputs": [
    {
     "data": {
      "text/plain": [
       "produk_id         0\n",
       "nama_produk       0\n",
       "kategori          0\n",
       "harga            30\n",
       "rating           50\n",
       "jumlah_ulasan    20\n",
       "negara_asal       0\n",
       "dtype: int64"
      ]
     },
     "execution_count": 7,
     "metadata": {},
     "output_type": "execute_result"
    }
   ],
   "source": [
    "np.sum(df.isnull())"
   ]
  },
  {
   "cell_type": "markdown",
   "metadata": {},
   "source": [
    "Jumlah missing value di setiap kolom :\n",
    "- Missing value di kolom harga adalah 30\n",
    "- Missing value di kolom rating adalah 50\n",
    "- Missing value di kolom jumlah_ulasan adalah 20"
   ]
  },
  {
   "cell_type": "markdown",
   "metadata": {},
   "source": [
    "b. Jelaskan bagaimana keberadaan missing values dapat memengaruhi analisis data."
   ]
  },
  {
   "cell_type": "markdown",
   "metadata": {},
   "source": [
    "Missing values dapat memengaruhi analisis data dalam beberapa cara:\n",
    "1. Menghambat visualisasi data – Jika terdapat terlalu banyak missing values, representasi data dalam bentuk grafik bisa menjadi tidak akurat atau sulit dibuat.\n",
    "2. Bias dalam hasil analisis – Jika data yang hilang tidak tersebar secara acak (misalnya, hanya pada produk tertentu), maka hasil analisis bisa menjadi bias dan tidak mencerminkan kondisi sebenarnya.\n",
    "3. Gangguan pada perhitungan statistik – Banyak teknik analisis seperti rata-rata, median, atau regresi memerlukan data yang lengkap. Jika terdapat missing values, perhitungan ini bisa menjadi tidak valid atau kurang akurat.\n",
    "4. Penurunan akurasi model prediksi – Jika data digunakan untuk membangun model statistik atau machine learning, missing values dapat menyebabkan penurunan akurasi model."
   ]
  },
  {
   "cell_type": "markdown",
   "metadata": {},
   "source": [
    "c. Tentukan metode yang paling sesuai untuk menangani missing values di setiap kolom. Berikan alasan pemilihan metode tersebut."
   ]
  },
  {
   "cell_type": "code",
   "execution_count": 8,
   "metadata": {},
   "outputs": [
    {
     "name": "stdout",
     "output_type": "stream",
     "text": [
      "\n",
      "Normality test for harga:\n",
      "Shapiro-Wilk Test: p-value = 1.1826805198256674e-39\n",
      "D’Agostino’s K² Test: p-value = 9.94693479302005e-176\n",
      "Kolmogorov-Smirnov Test: p-value = 0.0\n",
      "\n",
      "Normality test for rating:\n",
      "Shapiro-Wilk Test: p-value = 8.553801348177478e-11\n",
      "D’Agostino’s K² Test: p-value = 5.708939733178346e-44\n",
      "Kolmogorov-Smirnov Test: p-value = 0.0\n",
      "\n",
      "Normality test for jumlah_ulasan:\n",
      "Shapiro-Wilk Test: p-value = 6.198018105405025e-12\n",
      "D’Agostino’s K² Test: p-value = 5.937366198993208e-73\n",
      "Kolmogorov-Smirnov Test: p-value = 0.0\n"
     ]
    }
   ],
   "source": [
    "numerical_cols = [\"harga\", \"rating\", \"jumlah_ulasan\"]\n",
    "\n",
    "# Uji normalitas dengan Shapiro-Wilk, D’Agostino’s K², dan Kolmogorov-Smirnov\n",
    "for col in numerical_cols:\n",
    "    data = df[col].dropna()  # Hilangkan NaN jika ada\n",
    "    \n",
    "    shapiro_test = stats.shapiro(data)\n",
    "    dagostino_test = stats.normaltest(data)\n",
    "    ks_test = stats.kstest(data, 'norm')\n",
    "\n",
    "    print(f\"\\nNormality test for {col}:\")\n",
    "    print(f\"Shapiro-Wilk Test: p-value = {shapiro_test.pvalue}\")\n",
    "    print(f\"D’Agostino’s K² Test: p-value = {dagostino_test.pvalue}\")\n",
    "    print(f\"Kolmogorov-Smirnov Test: p-value = {ks_test.pvalue}\")"
   ]
  },
  {
   "cell_type": "markdown",
   "metadata": {},
   "source": [
    "Berdasarkan hasil uji normalitas, diketahui bahwa kolom harga, rating, dan jumlah_ulasan memiliki data yang tidak berdistribusi normal. Oleh karena itu, kita dapat menggunakan imputasi median karena lebih tahan terhadap outlier dan tidak akan mengubah distribusi data."
   ]
  },
  {
   "cell_type": "markdown",
   "metadata": {},
   "source": [
    "d. Tangani missing values dengan metode yang sesuai"
   ]
  },
  {
   "cell_type": "code",
   "execution_count": 9,
   "metadata": {},
   "outputs": [
    {
     "name": "stderr",
     "output_type": "stream",
     "text": [
      "c:\\Users\\DELL\\AppData\\Local\\Programs\\Python\\Python313\\Lib\\site-packages\\numpy\\_core\\fromnumeric.py:84: FutureWarning: The behavior of DataFrame.sum with axis=None is deprecated, in a future version this will reduce over both axes and return a scalar. To retain the old behavior, pass axis=0 (or do not pass axis)\n",
      "  return reduction(axis=axis, out=out, **passkwargs)\n"
     ]
    },
    {
     "data": {
      "text/plain": [
       "produk_id        0\n",
       "nama_produk      0\n",
       "kategori         0\n",
       "harga            0\n",
       "rating           0\n",
       "jumlah_ulasan    0\n",
       "negara_asal      0\n",
       "dtype: int64"
      ]
     },
     "execution_count": 9,
     "metadata": {},
     "output_type": "execute_result"
    }
   ],
   "source": [
    "df['harga']=df['harga'].fillna(df['harga'].median())\n",
    "df['rating']=df['rating'].fillna(df['rating'].median())\n",
    "df['jumlah_ulasan']=df['jumlah_ulasan'].fillna(df['jumlah_ulasan'].median())\n",
    "\n",
    "np.sum(df.isnull())"
   ]
  },
  {
   "cell_type": "markdown",
   "metadata": {},
   "source": [
    "Dengan menggunakan imputasi median, missing values berhasil diatasi."
   ]
  },
  {
   "cell_type": "markdown",
   "metadata": {},
   "source": [
    "**SOAL NO 3**"
   ]
  },
  {
   "cell_type": "markdown",
   "metadata": {},
   "source": [
    "a. Identifikasi outlier dalam dataset"
   ]
  },
  {
   "cell_type": "code",
   "execution_count": 10,
   "metadata": {},
   "outputs": [
    {
     "data": {
      "image/png": "[encoded data removed]",
      "text/plain": [
       "<Figure size 1500x800 with 3 Axes>"
      ]
     },
     "metadata": {},
     "output_type": "display_data"
    }
   ],
   "source": [
    "# Visualisasi Boxplot\n",
    "plt.figure(figsize=(15, 8))\n",
    "for i, col in enumerate(numerical_cols, 1):\n",
    "    plt.subplot(3, 4, i)\n",
    "    sns.boxplot(y=df[col])\n",
    "    plt.title(col)\n",
    "plt.tight_layout()\n",
    "plt.show()"
   ]
  },
  {
   "cell_type": "code",
   "execution_count": 11,
   "metadata": {},
   "outputs": [
    {
     "name": "stdout",
     "output_type": "stream",
     "text": [
      "harga: 14 outliers\n",
      "rating: 0 outliers\n",
      "jumlah_ulasan: 0 outliers\n"
     ]
    }
   ],
   "source": [
    "def detect_outliers_iqr(df, column):\n",
    "    Q1 = df[column].quantile(0.25)  # Kuartil 1\n",
    "    Q3 = df[column].quantile(0.75)  # Kuartil 3\n",
    "    IQR = Q3 - Q1  # Rentang interkuartil\n",
    "    lower_bound = Q1 - 1.5 * IQR\n",
    "    upper_bound = Q3 + 1.5 * IQR\n",
    "    return df[(df[column] < lower_bound) | (df[column] > upper_bound)]\n",
    "\n",
    "# Cek jumlah outlier untuk setiap kolom numerik\n",
    "for col in numerical_cols:\n",
    "    outliers = detect_outliers_iqr(df, col)\n",
    "    print(f\"{col}: {len(outliers)} outliers\")"
   ]
  },
  {
   "cell_type": "markdown",
   "metadata": {},
   "source": [
    "Terdapat outlier pada kolom harga sebanyak 14 data outlier."
   ]
  },
  {
   "cell_type": "markdown",
   "metadata": {},
   "source": [
    "b. Apa dampak dari keberadaan outlier terhadap analisis?"
   ]
  },
  {
   "cell_type": "markdown",
   "metadata": {},
   "source": [
    "Outlier dapat memberikan dampak signifikan terhadap analisis data, terutama dalam perhitungan statistik dan pemodelan. Berikut adalah beberapa dampaknya:\n",
    "\n",
    "1. Mengganggu Asumsi Statistik : Banyak metode statistik seperti regresi linier dan uji t mengasumsikan bahwa data terdistribusi normal. Kehadiran outlier dapat menyebabkan skewness yang tinggi, sehingga hasil analisis menjadi bias atau tidak valid.\n",
    "2. Mempengaruhi Nilai Statistik Deskriptif : Outlier dapat menyebabkan mean (rata-rata) menjadi tidak representatif karena nilai ekstrem yang terlalu tinggi atau terlalu rendah. Selain itu, standar deviasi menjadi lebih besar, sehingga menyebabkan kesalahan dalam interpretasi variabilitas data.\n",
    "3. Mempengaruhi Model Prediktif : Dalam machine learning atau regresi, outlier dapat menarik model ke arah yang salah, sehingga menyebabkan model menjadi overfitting atau menghasilkan prediksi yang kurang akurat.\n"
   ]
  },
  {
   "cell_type": "markdown",
   "metadata": {},
   "source": [
    "c. Pilih metode yang sesuai untuk menangani outlier dan jelaskan alasan pemilihannya.\n"
   ]
  },
  {
   "cell_type": "markdown",
   "metadata": {},
   "source": [
    "- Winsorizing : \n",
    "Winsorizing merupakan teknik untuk menjaga kestabilan data tanpa menghilangkan informasi penting. Outlier dapat mengganggu perhitungan statistik seperti rata-rata dan standar deviasi, tetapi menghapus data bisa menyebabkan kehilangan informasi yang berharga. Dengan mengganti outlier menggunakan batas atas atau bawah dari IQR (Interquartile Range), pola distribusi data tetap mendekati realitas tanpa dipengaruhi oleh nilai ekstrem yang dapat merusak hasil analisis."
   ]
  },
  {
   "cell_type": "markdown",
   "metadata": {},
   "source": [
    "d. Tangani outlier dengan metode yang sesuai, atau jika memilih tidak menangani \n",
    "outlier berikan alasannya."
   ]
  },
  {
   "cell_type": "code",
   "execution_count": 12,
   "metadata": {},
   "outputs": [],
   "source": [
    "Q1 = df['harga'].quantile(0.25)\n",
    "Q3 = df['harga'].quantile(0.75)\n",
    "IQR = Q3 - Q1\n",
    "lower_bound = Q1 - 1.5 * IQR\n",
    "upper_bound = Q3 + 1.5 * IQR\n",
    "\n",
    "df['harga'] = np.where(df['harga'] > upper_bound, upper_bound, df['harga'])\n",
    "df['harga'] = np.where(df['harga'] < lower_bound, lower_bound, df['harga'])"
   ]
  },
  {
   "cell_type": "code",
   "execution_count": 13,
   "metadata": {},
   "outputs": [
    {
     "data": {
      "image/png": "[encoded data removed]",
      "text/plain": [
       "<Figure size 600x400 with 1 Axes>"
      ]
     },
     "metadata": {},
     "output_type": "display_data"
    }
   ],
   "source": [
    "plt.figure(figsize=(6, 4))\n",
    "sns.boxplot(y=df['harga'])\n",
    "plt.title(\"Boxplot Harga (Setelah Winsorizing)\")\n",
    "plt.ylabel(\"log(harga)\")\n",
    "plt.show()"
   ]
  },
  {
   "cell_type": "markdown",
   "metadata": {},
   "source": [
    "**SOAL NO 4**"
   ]
  },
  {
   "cell_type": "markdown",
   "metadata": {},
   "source": [
    "a. Tentukan kolom mana yang memerlukan encoding.\n"
   ]
  },
  {
   "cell_type": "code",
   "execution_count": 14,
   "metadata": {},
   "outputs": [
    {
     "data": {
      "text/plain": [
       "array(['Smartwatch', 'Headphone', 'Tablet', 'Laptop', 'Camera',\n",
       "       'Smartphone'], dtype=object)"
      ]
     },
     "execution_count": 14,
     "metadata": {},
     "output_type": "execute_result"
    }
   ],
   "source": [
    "df['kategori'].unique()"
   ]
  },
  {
   "cell_type": "code",
   "execution_count": 29,
   "metadata": {},
   "outputs": [
    {
     "data": {
      "text/plain": [
       "array(['Japan', 'Canada', 'South Korea', 'France', 'USA', 'Germany',\n",
       "       'China', 'India', 'UK'], dtype=object)"
      ]
     },
     "execution_count": 29,
     "metadata": {},
     "output_type": "execute_result"
    }
   ],
   "source": [
    "df['negara_asal'].unique()"
   ]
  },
  {
   "cell_type": "markdown",
   "metadata": {},
   "source": [
    "Berikut adalah kolom yang memerlukan encoding, yakni :\n",
    "- kategori → karena berisi data kategorikal (Smartwatch, Headphone, Tablet, dll.).\n",
    "- negara_asal → karena berisi nama negara yang bersifat kategorikal (Japan, Canada, South Korea, dll.)."
   ]
  },
  {
   "cell_type": "markdown",
   "metadata": {},
   "source": [
    "b. Bandingkan berbagai metode encoding dan pilih metode yang paling sesuai untuk \n",
    "setiap kolom. Jelaskan alasan pemilihan metode tersebut"
   ]
  },
  {
   "cell_type": "markdown",
   "metadata": {},
   "source": [
    "**Metode Encoding**\n",
    "- Kolom Kategori menggunakan One-Hot Encoding (OHE) : Kolom kategori dikodekan menggunakan One-Hot Encoding karena jumlah kategori tidak terlalu banyak dan tidak memiliki hubungan ordinal antar kategori. Pendekatan ini memungkinkan setiap kategori direpresentasikan dalam bentuk vektor biner, sehingga mempermudah proses analisis tanpa menimbulkan bias urutan.\n",
    "- Kolom negara asal dikodekan menggunakan Regional Encoding karena negara dapat dikelompokkan berdasarkan wilayah geografis. Metode ini lebih efisien dibandingkan One-Hot Encoding dan mampu menangkap hubungan semantik antar negara, sehingga model dapat memahami pola geografis dengan lebih baik."
   ]
  }
 ],
 "metadata": {
  "kernelspec": {
   "display_name": "Python 3",
   "language": "python",
   "name": "python3"
  },
  "language_info": {
   "codemirror_mode": {
    "name": "ipython",
    "version": 3
   },
   "file_extension": ".py",
   "mimetype": "text/x-python",
   "name": "python",
   "nbconvert_exporter": "python",
   "pygments_lexer": "ipython3",
   "version": "3.13.1"
  }
 },
 "nbformat": 4,
 "nbformat_minor": 2
}
